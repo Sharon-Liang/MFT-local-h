{
 "cells": [
  {
   "cell_type": "markdown",
   "metadata": {},
   "source": [
    "\\section{Hamiltonian}\n",
    "\n",
    "\\begin{align}\n",
    "    H &= H_K + H_{h} \\\\\n",
    "    H_K &= - \\sum_{<j,k>_\\alpha} J_\\alpha \\sigma_j^\\alpha \\sigma_k^\\alpha \\\\\n",
    "    H_h &= - \\sum_\\alpha h_\\alpha \\sigma_0^\\alpha\n",
    "\\end{align}\n",
    "\n",
    "The ground state Hamiltonain of Kitaev model is :\n",
    "\\begin{equation}\n",
    "    H_K^0 = \\sum_{<j,k>_\\alpha} J_\\alpha \\ i c_j c_k\n",
    "\\end{equation}\n",
    "\n",
    "When applied the local magnetic field, the $<u_{<0j>_\\alpha}$ is not conserved anymore while others are still conserved quanties. We can rewrite the Hamiltonian into this form:\n",
    "\n",
    "\\begin{align}\n",
    "\\begin{split}\n",
    "    H &= H_K^0 + \\sum_{<0j>_\\alpha} J_\\alpha \\ (i b_0^\\alpha b_j^\\alpha - 1) \\ i c_0 c_j\n",
    "            - \\sum_\\alpha h_\\alpha \\ i c_0 b_0^\\alpha \\\\\n",
    "      & = H_K^0 + H_{imp} + H_h\n",
    "\\end{split}\n",
    "\\end{align}\n",
    "\n",
    "\\section{MFT Hamiltonian}\n",
    "\n",
    "Apply MFT to $H_{imp}$, we have:\n",
    "\\begin{equation}\n",
    "    H_{imp}^{MF} = \\sum_\\alpha J_\\alpha ( <i c_0 c_\\alpha> i b_0^\\alpha b_\\alpha^\\alpha  \n",
    "                        + <i b_0^\\alpha b_\\alpha^\\alpha> i c_0 c_\\alpha\n",
    "                        - <i c_0 b_0^\\alpha> i c_\\alpha b_\\alpha^\\alpha\n",
    "                        - <i c_\\alpha b_\\alpha^\\alpha> i c_0 b_0^\\alpha)\n",
    "\\end{equation}\n",
    "The constant term is:\n",
    "\\begin{equation}\n",
    "    H_{imp}^{C} = \\sum_\\alpha J_\\alpha( <i c_0 b_0^\\alpha> <i c_\\alpha b_\\alpha^\\alpha>\n",
    "                                    - <i c_0 c_\\alpha><i b_0^\\alpha b_\\alpha^\\alpha>)\n",
    "\\end{equation}\n",
    "\n",
    "where we use superscript $\\alpha$ to label bonds direction and subscript $\\alpha$ to label atoms link to the $0$-atom with bond $\\alpha$. And we ignore the $(i c_0 b_\\alpha^\\alpha)(i b_0^\\alpha c_\\alpha)$ terms because they have been proved $0$ in previous studies."
   ]
  },
  {
   "cell_type": "markdown",
   "metadata": {},
   "source": [
    "\\section{Lattice}\n",
    "\n",
    "We use a $N_1 \\times N_2 \\times 2$ rhomboid lattice. The lattice vectors are $\\vec{n}_1 = (0,1), \\vec{n}_2 = (\\frac{1}{2},\\frac{\\sqrt{3}}{2})$. The number of unit cells along these two directions are $N_1$ and $N_2$ respectively. We label each unit cell by its row and colume numbers $(row, col)$(start from $0$), the label of this unit cell given by $ n = row \\times N_1 + col$. We can label A atom in the $n$-th unit cell as $2n$ and B as $2n + 1$.\n",
    "\n",
    "For a given A atom $2n$, the B atom linked to it by $x$-bond is $2n + 1$, $y$-bond is $2n - 1$, $z$-bond is $2 (n - N_1) + 1$.\n",
    "\n",
    "we use the basis $(c_{1A},\\ c_{1B},\\ ... \\,\\ c_{NA},\\ c_{NB})^T$ when there is no magnetic field. When $H_h$ is added, the basis dimension becomes $N_1 \\times N_2 \\times 2 + 6$,  where the last six operators in the basis is $(b_0^x,\\ b_0^y,\\ b_0^z,\\ b_x^x,\\ b_y^y,\\ b_z^z)$."
   ]
  },
  {
   "cell_type": "code",
   "execution_count": 2,
   "metadata": {},
   "outputs": [],
   "source": [
    "import numpy as np\n",
    "\n",
    "def BulkHam(Jx, Jy, Jz, periodic = True):\n",
    "    '''Pure Kitaev Hamiltonian'''\n",
    "    return H\n",
    "\n",
    "def MFT():\n",
    "    return "
   ]
  },
  {
   "cell_type": "code",
   "execution_count": null,
   "metadata": {},
   "outputs": [],
   "source": []
  }
 ],
 "metadata": {
  "kernelspec": {
   "display_name": "Python 3",
   "language": "python",
   "name": "python3"
  },
  "language_info": {
   "codemirror_mode": {
    "name": "ipython",
    "version": 3
   },
   "file_extension": ".py",
   "mimetype": "text/x-python",
   "name": "python",
   "nbconvert_exporter": "python",
   "pygments_lexer": "ipython3",
   "version": "3.7.3"
  },
  "latex_envs": {
   "LaTeX_envs_menu_present": true,
   "autoclose": false,
   "autocomplete": false,
   "bibliofile": "biblio.bib",
   "cite_by": "apalike",
   "current_citInitial": 1,
   "eqLabelWithNumbers": true,
   "eqNumInitial": 1,
   "hotkeys": {
    "equation": "Ctrl-E",
    "itemize": "Ctrl-I"
   },
   "labels_anchors": false,
   "latex_user_defs": false,
   "report_style_numbering": true,
   "user_envs_cfg": false
  },
  "toc": {
   "base_numbering": 1,
   "nav_menu": {},
   "number_sections": true,
   "sideBar": true,
   "skip_h1_title": false,
   "title_cell": "Table of Contents",
   "title_sidebar": "Contents",
   "toc_cell": false,
   "toc_position": {},
   "toc_section_display": true,
   "toc_window_display": false
  }
 },
 "nbformat": 4,
 "nbformat_minor": 2
}
