{
 "cells": [
  {
   "cell_type": "markdown",
   "metadata": {},
   "source": [
    "\\section{Hamiltonian}\n",
    "\n",
    "\\begin{align}\n",
    "    H &= H_K + H_{h} \\\\\n",
    "    H_K &= - \\sum_{<j,k>_\\alpha} J_\\alpha \\sigma_j^\\alpha \\sigma_k^\\alpha \\\\\n",
    "    H_h &= - \\sum_\\alpha h_\\alpha \\sigma_0^\\alpha\n",
    "\\end{align}\n",
    "\n",
    "The ground state Hamiltonain of Kitaev model is :\n",
    "\\begin{equation}\n",
    "    H_K^0 = \\sum_{<j,k>_\\alpha} J_\\alpha \\ i c_j c_k\n",
    "\\end{equation}\n",
    "\n",
    "When applied the local magnetic field, the $<u_{<0j>_\\alpha}$ is not conserved anymore while others are still conserved quanties. We can rewrite the Hamiltonian into this form:\n",
    "\n",
    "\\begin{align}\n",
    "\\begin{split}\n",
    "    H &= H_K^0 + \\sum_{<0j>_\\alpha} J_\\alpha \\ (i b_0^\\alpha b_j^\\alpha - 1) \\ i c_0 c_j\n",
    "            - \\sum_\\alpha h_\\alpha \\ i c_0 b_0^\\alpha \\\\\n",
    "      & = H_K^0 + H_{int} + H_h\\\\\n",
    "      & = H_K^0 + H_{imp}\n",
    "\\end{split}\n",
    "\\end{align}\n",
    "\n",
    "where $H_{imp} = H_{int} + H_h$.\n",
    "\n",
    "\n",
    "\\section{MFT Hamiltonian}\n",
    "\n",
    "Apply MFT to $H_{int}$, we have:\n",
    "\\begin{equation}\n",
    "    H_{int}^{MF} = \\sum_\\alpha J_\\alpha ( <i c_0 c_\\alpha> i b_0^\\alpha b_\\alpha^\\alpha  \n",
    "                        + <i b_0^\\alpha b_\\alpha^\\alpha> i c_0 c_\\alpha\n",
    "                        - <i c_0 b_0^\\alpha> i c_\\alpha b_\\alpha^\\alpha\n",
    "                        - <i c_\\alpha b_\\alpha^\\alpha> i c_0 b_0^\\alpha)\n",
    "\\end{equation}\n",
    "The constant term is:\n",
    "\\begin{equation}\n",
    "    H_{int}^{C} = \\sum_\\alpha J_\\alpha( <i c_0 b_0^\\alpha> <i c_\\alpha b_\\alpha^\\alpha>\n",
    "                                    - <i c_0 c_\\alpha><i b_0^\\alpha b_\\alpha^\\alpha>)\n",
    "\\end{equation}\n",
    "\n",
    "where we use superscript $\\alpha$ to label bonds direction and subscript $\\alpha$ to label atoms link to the $0$-atom with bond $\\alpha$. And we ignore the $(i c_0 b_\\alpha^\\alpha)(i b_0^\\alpha c_\\alpha)$ terms because they have been proved $0$ in previous studies."
   ]
  },
  {
   "cell_type": "markdown",
   "metadata": {},
   "source": [
    "\\section{Lattice}\n",
    "\n",
    "We use a $N_1 \\times N_2 \\times 2$ rhomboid lattice. The lattice vectors are $\\vec{n}_1 = (0,1), \\vec{n}_2 = (\\frac{1}{2},\\frac{\\sqrt{3}}{2})$. The number of unit cells along these two directions are $N_1$ and $N_2$ respectively. We label each unit cell by its row and colume numbers $(r, c)$(start from $0$), the label of this unit cell given by $ n = r \\times N_1 + c$. We can label A atom in the $n$-th unit cell as $2n$ and B atom as $2n + 1$.\n",
    "\n",
    "For a given A atom $2n$, the B atom linked to it by $x$-bond is $2n + 1$, $y$-bond is $2n - 1$, $z$-bond is $2 (n - N_1) + 1$.\n",
    "\n",
    "we use the basis $(c_{1A},\\ c_{1B},\\ ... \\,\\ c_{NA},\\ c_{NB})^T$ when there is no magnetic field. When $H_h$ is added, the basis dimension becomes $N_1 \\times N_2 \\times 2 + 6$,  where the last six operators in the basis is $(b_0^x,\\ b_0^y,\\ b_0^z,\\ b_x^x,\\ b_y^y,\\ b_z^z)$."
   ]
  },
  {
   "cell_type": "code",
   "execution_count": 54,
   "metadata": {
    "code_folding": [
     3,
     113
    ]
   },
   "outputs": [],
   "source": [
    "import numpy as np\n",
    "from scipy.sparse import csc_matrix\n",
    "\n",
    "def BulkHam(JK, N1,N2, periodic = False, flux = False):\n",
    "    '''Kitaev Hamiltonian in fixed flux pattern\n",
    "    \n",
    "       Inputs: JK : 1*3 matrix, Jx=J[0], Jy = J[1], Jz=J[2]\n",
    "               N1,N2: int\n",
    "               \n",
    "       Return: H matrix'''\n",
    "    \n",
    "    SiteNum = N1 * N2 * 2\n",
    "    Hr = np.zeros([SiteNum, SiteNum],dtype=complex)\n",
    "    for r in range(N2):\n",
    "        for c in range(N1):\n",
    "            n = r * N1 + c #label of unit cell\n",
    "            '''X-bonds'''\n",
    "            next = 2 * n + 1\n",
    "            Hr[2*n, next] +=  1j * JK[0]  \n",
    "                \n",
    "            '''Y-bonds'''\n",
    "            if c > 0:\n",
    "                next = 2*n -1\n",
    "            elif c == 0 and periodic == True:\n",
    "                next = 2 * (n + N1) -1\n",
    "            else:\n",
    "                next = 0.5\n",
    "                    \n",
    "            if next % 1 == 0:\n",
    "                Hr[2*n, next] += 1j * JK[1]\n",
    "   \n",
    "            '''Z-bonds'''\n",
    "            if r > 0:\n",
    "                next = 2*(n - N1) + 1\n",
    "            elif r == 0 and periodic == True:\n",
    "                next = 2 * (n + N1 * N2 - N1) +1\n",
    "            else:\n",
    "                next = 0.5\n",
    "                \n",
    "            if next % 1 == 0:\n",
    "                if flux == True and r == N2//2 and c >= N1//2:\n",
    "                    Hr[2*n, next] +=  -1j * JK[2]\n",
    "                else:\n",
    "                    Hr[2*n, next] +=  1j * JK[2]\n",
    "                    \n",
    "    Hr = (Hr + np.conj(Hr).T)/2\n",
    "    return Hr\n",
    "\n",
    "def BulkHam_csc(JK, N1,N2, periodic = False, flux = False):\n",
    "    '''Kitaev Hamiltonian in fixed flux pattern\n",
    "    \n",
    "       Inputs: JK : 1*3 matrix, Jx=J[0], Jy = J[1], Jz=J[2]\n",
    "               N1,N2: int\n",
    "               \n",
    "       Return: '''\n",
    "    \n",
    "    SiteNum = N1 * N2 * 2\n",
    "    \n",
    "    row = []\n",
    "    col = []\n",
    "    data = []\n",
    "    for r in range(N2):\n",
    "        temp = {} # A temporary dict\n",
    "        for c in range(N1):\n",
    "            n = r * N1 + c #label of unit cell\n",
    "            '''X-bonds'''\n",
    "            next = 2*n + 1\n",
    "            if next in temp:\n",
    "                temp[next] += 1j * JK[0]\n",
    "            else: \n",
    "                temp[next] = 1j * JK[0]\n",
    "                \n",
    "            '''Y-bonds'''\n",
    "            if c > 0:\n",
    "                next = 2*n -1\n",
    "            elif c == 0 and periodic == True:\n",
    "                next = 2 * (n + N1) -1\n",
    "            else:\n",
    "                next = 0.5\n",
    "                    \n",
    "            if next % 1 == 0:\n",
    "                if next in temp:\n",
    "                    temp[next] += 1j * JK[1]\n",
    "                else: \n",
    "                    temp[next] = 1j * JK[1]\n",
    "   \n",
    "            '''Z-bonds'''\n",
    "            if r > 0:\n",
    "                next = 2*(n - N1) + 1\n",
    "            elif r == 0 and periodic == True:\n",
    "                next = 2 * (n + N1 * N2 - N1) +1\n",
    "            else:\n",
    "                next = 0.5\n",
    "                \n",
    "            if next % 1 == 0:\n",
    "                if next in temp:\n",
    "                    if flux == True and r == N2//2 and c >= N1//2:\n",
    "                        temp[next] +=  -1j * JK[2]\n",
    "                    else:\n",
    "                        temp[next] +=  1j * JK[2]\n",
    "                else: \n",
    "                    if flux == True and r == N2//2 and c >= N1//2:\n",
    "                        temp[next] =  -1j * JK[2]\n",
    "                    else:\n",
    "                        temp[next] =  1j * JK[2]\n",
    "            odTemp = sorted(temp)\n",
    "            for e in odTemp:\n",
    "                row.append(2*n)\n",
    "                col.append(e)\n",
    "                data.append(temp[e])\n",
    "                    \n",
    "    return row, col, data\n",
    "\n",
    "def ImpHam_csc(h, parameters):\n",
    "    '''H_imp = H_int + H_h\n",
    "    \n",
    "       Inputs: h:1*3 matrix, hx=h[0], hy = h[1], hz=h[2]\n",
    "               parameters: dict{order parameter: value}\n",
    "               '''\n",
    "    return \n",
    "\n",
    "def makeH(row, col, data, dim):\n",
    "    '''Make csc format Hamiltonian\n",
    "       \n",
    "       Inputs : row,col :position of the non-zero elementds of Hamiltonian matrix\n",
    "                data: H(row,col) = data\n",
    "                dim: Hamiltonian matrix dimension\n",
    "       Return: Hcsc: csc formate Hamiltonian\n",
    "       \n",
    "       Notice: we only have to enter half of the elements and get the other half \n",
    "               by hermition conjugate.'''\n",
    "    Hcsc = csc_matrix((data, (row, col)), shape=(dim, dim),dtype = complex)\n",
    "    Hcsc = (Hcsc + Hcsc.getH()) /2 \n",
    "    return Hcsc\n",
    "    "
   ]
  },
  {
   "cell_type": "code",
   "execution_count": 53,
   "metadata": {},
   "outputs": [
    {
     "name": "stdout",
     "output_type": "stream",
     "text": [
      "0.2916666666666667\n"
     ]
    }
   ],
   "source": [
    "JK = np.array([10,1,0.1])\n",
    "N1 = 2\n",
    "N2 = 3\n",
    "SiteNum = N1*N2 *2\n",
    "H0 = BulkHam(JK, N1,N2, periodic = True, flux = True)\n",
    "H1 = BulkHam_csc(JK, N1,N2, periodic = True, flux = True)\n",
    "print(H1.count_nonzero()/ (SiteNum * SiteNum))"
   ]
  },
  {
   "cell_type": "code",
   "execution_count": 11,
   "metadata": {},
   "outputs": [
    {
     "name": "stdout",
     "output_type": "stream",
     "text": [
      "[[1 0 4]\n",
      " [0 0 5]\n",
      " [2 3 6]]\n",
      "[[ 2  0  8]\n",
      " [ 0  0 10]\n",
      " [ 4  6 12]]\n"
     ]
    }
   ],
   "source": [
    "import numpy as np\n",
    "from scipy.sparse import csc_matrix\n",
    "\n",
    "row = np.array([0, 2, 2, 0, 1, 2])\n",
    "col = np.array([0, 0, 1, 2, 2, 2])\n",
    "data = np.array([1, 2, 3, 4, 5, 6])\n",
    "A = csc_matrix((data, (row, col)), shape=(3, 3))\n",
    "B = A+A\n",
    "print(A.toarray())\n",
    "print((A+A).toarray())"
   ]
  },
  {
   "cell_type": "code",
   "execution_count": 13,
   "metadata": {},
   "outputs": [
    {
     "data": {
      "text/plain": [
       "array([[1, 0, 2],\n",
       "       [0, 0, 3],\n",
       "       [4, 5, 6]], dtype=int64)"
      ]
     },
     "execution_count": 13,
     "metadata": {},
     "output_type": "execute_result"
    }
   ],
   "source": [
    "A.getH().toarray()"
   ]
  },
  {
   "cell_type": "code",
   "execution_count": null,
   "metadata": {},
   "outputs": [],
   "source": []
  }
 ],
 "metadata": {
  "kernelspec": {
   "display_name": "Python 3",
   "language": "python",
   "name": "python3"
  },
  "language_info": {
   "codemirror_mode": {
    "name": "ipython",
    "version": 3
   },
   "file_extension": ".py",
   "mimetype": "text/x-python",
   "name": "python",
   "nbconvert_exporter": "python",
   "pygments_lexer": "ipython3",
   "version": "3.7.3"
  },
  "latex_envs": {
   "LaTeX_envs_menu_present": true,
   "autoclose": false,
   "autocomplete": false,
   "bibliofile": "biblio.bib",
   "cite_by": "apalike",
   "current_citInitial": 1,
   "eqLabelWithNumbers": true,
   "eqNumInitial": 1,
   "hotkeys": {
    "equation": "Ctrl-E",
    "itemize": "Ctrl-I"
   },
   "labels_anchors": false,
   "latex_user_defs": false,
   "report_style_numbering": true,
   "user_envs_cfg": false
  },
  "toc": {
   "base_numbering": 1,
   "nav_menu": {},
   "number_sections": true,
   "sideBar": true,
   "skip_h1_title": false,
   "title_cell": "Table of Contents",
   "title_sidebar": "Contents",
   "toc_cell": false,
   "toc_position": {},
   "toc_section_display": true,
   "toc_window_display": false
  }
 },
 "nbformat": 4,
 "nbformat_minor": 2
}
